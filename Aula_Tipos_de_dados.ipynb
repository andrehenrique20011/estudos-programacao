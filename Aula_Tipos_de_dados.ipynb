{
  "nbformat": 4,
  "nbformat_minor": 0,
  "metadata": {
    "colab": {
      "provenance": [],
      "authorship_tag": "ABX9TyOGUdzNmPGyydQCIeSOHT2f",
      "include_colab_link": true
    },
    "kernelspec": {
      "name": "python3",
      "display_name": "Python 3"
    },
    "language_info": {
      "name": "python"
    }
  },
  "cells": [
    {
      "cell_type": "markdown",
      "metadata": {
        "id": "view-in-github",
        "colab_type": "text"
      },
      "source": [
        "<a href=\"https://colab.research.google.com/github/andrehenrique20011/estudos-programacao/blob/main/Aula_Tipos_de_dados.ipynb\" target=\"_parent\"><img src=\"https://colab.research.google.com/assets/colab-badge.svg\" alt=\"Open In Colab\"/></a>"
      ]
    },
    {
      "cell_type": "code",
      "source": [
        "print('Meu primeiro notebook')"
      ],
      "metadata": {
        "colab": {
          "base_uri": "https://localhost:8080/"
        },
        "id": "4z5xuo2FC5W8",
        "outputId": "1eb684db-8794-495c-c8cd-4e9e7fd3f8c6"
      },
      "execution_count": 2,
      "outputs": [
        {
          "output_type": "stream",
          "name": "stdout",
          "text": [
            "Meu primeiro notebook\n"
          ]
        }
      ]
    },
    {
      "cell_type": "code",
      "source": [
        "nome= 'Pablo Ramon'\n",
        "print(nome)\n",
        "    "
      ],
      "metadata": {
        "colab": {
          "base_uri": "https://localhost:8080/"
        },
        "id": "3cUTX09LC_Mr",
        "outputId": "5f0ede14-5f5a-4a47-a6db-d0f77844ec78"
      },
      "execution_count": 7,
      "outputs": [
        {
          "output_type": "stream",
          "name": "stdout",
          "text": [
            "Pablo Ramon\n"
          ]
        }
      ]
    },
    {
      "cell_type": "code",
      "source": [
        "#Descobrir Tipo de variável\n",
        "type(nome)\n",
        " "
      ],
      "metadata": {
        "colab": {
          "base_uri": "https://localhost:8080/"
        },
        "id": "oQCCfVeBDEqz",
        "outputId": "7bb8def1-5015-4fc7-f9e3-cb32bea59e66"
      },
      "execution_count": 8,
      "outputs": [
        {
          "output_type": "execute_result",
          "data": {
            "text/plain": [
              "str"
            ]
          },
          "metadata": {},
          "execution_count": 8
        }
      ]
    },
    {
      "cell_type": "code",
      "source": [
        "a=100\n",
        "b=25.6\n",
        "c=a > b\n",
        "d='Chimpanze'"
      ],
      "metadata": {
        "id": "PIX3-SKOEOEk"
      },
      "execution_count": 9,
      "outputs": []
    },
    {
      "cell_type": "code",
      "source": [
        "type(a)\n",
        " "
      ],
      "metadata": {
        "colab": {
          "base_uri": "https://localhost:8080/"
        },
        "id": "uvJGaz1gEfKv",
        "outputId": "767f7456-97a5-4a1e-fc85-2739a6b2baea"
      },
      "execution_count": 14,
      "outputs": [
        {
          "output_type": "execute_result",
          "data": {
            "text/plain": [
              "int"
            ]
          },
          "metadata": {},
          "execution_count": 14
        }
      ]
    },
    {
      "cell_type": "code",
      "source": [
        "type(b)\n"
      ],
      "metadata": {
        "colab": {
          "base_uri": "https://localhost:8080/"
        },
        "id": "sQmna1rQC54T",
        "outputId": "f4b4bacd-36be-40a7-a9e9-a6c0c7098c1f"
      },
      "execution_count": 15,
      "outputs": [
        {
          "output_type": "execute_result",
          "data": {
            "text/plain": [
              "float"
            ]
          },
          "metadata": {},
          "execution_count": 15
        }
      ]
    },
    {
      "cell_type": "code",
      "source": [
        "type(c)\n"
      ],
      "metadata": {
        "colab": {
          "base_uri": "https://localhost:8080/"
        },
        "id": "mTKDPg9hFC-I",
        "outputId": "ff254fad-c05f-49e8-a51e-1c3d7da0c629"
      },
      "execution_count": 16,
      "outputs": [
        {
          "output_type": "execute_result",
          "data": {
            "text/plain": [
              "bool"
            ]
          },
          "metadata": {},
          "execution_count": 16
        }
      ]
    },
    {
      "cell_type": "code",
      "source": [
        "type(d)\n"
      ],
      "metadata": {
        "colab": {
          "base_uri": "https://localhost:8080/"
        },
        "id": "pd1Qaup6FFZ4",
        "outputId": "97ca493f-24b8-4afb-c15d-84106fac432a"
      },
      "execution_count": 18,
      "outputs": [
        {
          "output_type": "execute_result",
          "data": {
            "text/plain": [
              "str"
            ]
          },
          "metadata": {},
          "execution_count": 18
        }
      ]
    },
    {
      "cell_type": "code",
      "source": [
        "a=100<200\n",
        "b=85==6\n",
        "c='pablo' == 'Ramon'\n",
        "d= 25=='25'\n",
        "e=30==(6*5)\n",
        "f='Flamengo' !='Vasco'"
      ],
      "metadata": {
        "id": "77z1H-4pK9xp"
      },
      "execution_count": 26,
      "outputs": []
    },
    {
      "cell_type": "code",
      "source": [
        "print(a)\n",
        "print(b)\n",
        "print(c)\n",
        "print(d)\n",
        "print(e)"
      ],
      "metadata": {
        "colab": {
          "base_uri": "https://localhost:8080/"
        },
        "id": "J3llceDILLdS",
        "outputId": "35dd050d-dae2-43eb-a401-8daa437ef643"
      },
      "execution_count": 25,
      "outputs": [
        {
          "output_type": "stream",
          "name": "stdout",
          "text": [
            "True\n",
            "False\n",
            "False\n",
            "False\n",
            "True\n"
          ]
        }
      ]
    },
    {
      "cell_type": "code",
      "source": [
        "notaAprovacao=7.0\n",
        "notaWalison=7.0\n",
        "print(notaAprovacao < notaWalison)"
      ],
      "metadata": {
        "colab": {
          "base_uri": "https://localhost:8080/"
        },
        "id": "MPP-ARqaMuPq",
        "outputId": "41849e38-5d64-4b2b-f45b-a210c3fe9501"
      },
      "execution_count": 44,
      "outputs": [
        {
          "output_type": "stream",
          "name": "stdout",
          "text": [
            "False\n"
          ]
        }
      ]
    },
    {
      "cell_type": "code",
      "source": [
        "if(notaWalison >= notaAprovacao):\n",
        "   print('Aprovado')\n"
      ],
      "metadata": {
        "colab": {
          "base_uri": "https://localhost:8080/"
        },
        "id": "aOqSmGniNKfZ",
        "outputId": "97982c9e-24c7-4ba9-f579-4f2e2c9a27ec"
      },
      "execution_count": 33,
      "outputs": [
        {
          "output_type": "stream",
          "name": "stdout",
          "text": [
            "Aprovado\n"
          ]
        }
      ]
    },
    {
      "cell_type": "code",
      "source": [
        " if(notaWalison >= notaAprovacao):\n",
        "  print('Aprovado')\n",
        " else:\n",
        "  print('Reprovado')"
      ],
      "metadata": {
        "colab": {
          "base_uri": "https://localhost:8080/"
        },
        "id": "q-w6PG52N7qT",
        "outputId": "269669f2-db72-45fa-9b9d-e5149e8f544c"
      },
      "execution_count": 39,
      "outputs": [
        {
          "output_type": "stream",
          "name": "stdout",
          "text": [
            "Reprovado\n"
          ]
        }
      ]
    },
    {
      "cell_type": "code",
      "source": [
        "if(notaWalison) >= 7.0):\n",
        "  print('Aprovado')\n",
        "\n",
        "elif(notaWalison >= 4 and notaWalison > 7):\n",
        "  print('Recuperação')\n",
        "\n",
        "else:\n",
        "  print('Reprovado')\n"
      ],
      "metadata": {
        "id": "NVA9J936O72o"
      },
      "execution_count": null,
      "outputs": []
    },
    {
      "cell_type": "code",
      "source": [
        "if(notaWalison <4):\n",
        "  print('Reprovado')\n",
        "elif(notaWalison < 7):\n",
        "   print('Recuperação')\n",
        "else:\n",
        "   print('Aprovado')\n"
      ],
      "metadata": {
        "colab": {
          "base_uri": "https://localhost:8080/"
        },
        "id": "-ecG9CHTTPz6",
        "outputId": "d3283b56-aa9a-4043-d330-b5e95d8e12d0"
      },
      "execution_count": 40,
      "outputs": [
        {
          "output_type": "stream",
          "name": "stdout",
          "text": [
            "Recuperação\n"
          ]
        }
      ]
    },
    {
      "cell_type": "code",
      "source": [
        "nota 1 = input('Digite a nota, pae!')\n",
        "nota 2 = input('Digite a segunda nota! ')\n",
        "print(nota1+nota2)"
      ],
      "metadata": {
        "id": "RR5q-5dRUdTe"
      },
      "execution_count": null,
      "outputs": []
    },
    {
      "cell_type": "code",
      "source": [
        "#0 velho e bom PASSE\n",
        "nota1= float(input('Digite a nota, pae!'))\n",
        "nota2 = float (input('Digite a segunda nota!'))\n",
        "nota3= float(input('Digite a terceira nota! '))\n",
        "media = (nota1 + nota2 + nota3)/3\n",
        "print(media)"
      ],
      "metadata": {
        "colab": {
          "base_uri": "https://localhost:8080/"
        },
        "id": "WUuFcqQWVtX7",
        "outputId": "e339b779-d1f1-4049-f697-2b3189a27847"
      },
      "execution_count": 56,
      "outputs": [
        {
          "output_type": "stream",
          "name": "stdout",
          "text": [
            "Digite a nota, pae!9\n",
            "Digite a segunda nota!10\n",
            "Digite a terceira nota! 9\n",
            "9.333333333333334\n"
          ]
        }
      ]
    },
    {
      "cell_type": "code",
      "source": [
        "if(media < 4):\n",
        "  print('Reprovado')\n",
        "elif(media < 7):\n",
        "  print('Recuperação')\n",
        "else:\n",
        "  print('Aprovado')"
      ],
      "metadata": {
        "colab": {
          "base_uri": "https://localhost:8080/"
        },
        "id": "2URKv4GnXPYT",
        "outputId": "1aa79120-4f12-4bac-f3c3-d5d709ddee86"
      },
      "execution_count": 59,
      "outputs": [
        {
          "output_type": "stream",
          "name": "stdout",
          "text": [
            "Aprovado\n"
          ]
        }
      ]
    }
  ]
}